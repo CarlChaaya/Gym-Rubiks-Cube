{
 "cells": [
  {
   "cell_type": "code",
   "execution_count": null,
   "metadata": {},
   "outputs": [],
   "source": [
    "import sys\n",
    "import os\n",
    "import import_ipynb\n",
    "import numpy as np\n",
    "import random\n",
    "from termcolor import colored\n",
    "import gym\n",
    "from gym.spaces import Discrete, Box, MultiDiscrete\n",
    "import numpy as np\n",
    "from stable_baselines import PPO2, A2C, DQN\n",
    "#from stable_baselines.common.policies import MlpPolicy\n",
    "from stable_baselines.deepq.policies import MlpPolicy\n",
    "from stable_baselines.common.vec_env import DummyVecEnv\n",
    "from stable_baselines.common.env_checker import check_env\n",
    "import Cube\n",
    "import RubiksEnv\n",
    "\n",
    "\n",
    "kwargs = {'double_q': True,\n",
    "          'prioritized_replay': True,\n",
    "          'policy_kwargs': dict(dueling=True),\n",
    "          'exploration_final_eps' : 0.03,\n",
    "          'exploration_initial_eps' : 0.9,\n",
    "          'exploration_fraction' : 0.03,\n",
    "          'learning_rate' : 0.0002,\n",
    "          'gamma' : 0.6}\n",
    "\n",
    "env = RubiksEnv()\n",
    "model = DQN('MlpPolicy', env, verbose = 1, tensorboard_log = './tensorboard/PPO2', **kwargs)\n",
    "model.learn(total_timesteps = 2500000, log_interval = 10)\n",
    "model.save('DQN_Rubiks')"
   ]
  }
 ],
 "metadata": {
  "kernelspec": {
   "display_name": "Python 3",
   "language": "python",
   "name": "python3"
  },
  "language_info": {
   "codemirror_mode": {
    "name": "ipython",
    "version": 3
   },
   "file_extension": ".py",
   "mimetype": "text/x-python",
   "name": "python",
   "nbconvert_exporter": "python",
   "pygments_lexer": "ipython3",
   "version": "3.6.12"
  }
 },
 "nbformat": 4,
 "nbformat_minor": 4
}
