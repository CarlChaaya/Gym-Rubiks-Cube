{
 "cells": [
  {
   "cell_type": "code",
   "execution_count": null,
   "metadata": {},
   "outputs": [],
   "source": [
    "import sys\n",
    "import os\n",
    "import import_ipynb\n",
    "import numpy as np\n",
    "import random\n",
    "from termcolor import colored\n",
    "import gym\n",
    "from gym.spaces import Discrete, Box, MultiDiscrete\n",
    "import numpy as np\n",
    "from stable_baselines import PPO2, A2C, DQN\n",
    "#from stable_baselines.common.policies import MlpPolicy\n",
    "from stable_baselines.deepq.policies import MlpPolicy\n",
    "from stable_baselines.common.vec_env import DummyVecEnv\n",
    "from stable_baselines.common.env_checker import check_env\n",
    "import Cube\n",
    "import RubiksEnv\n",
    "\n",
    "\n",
    "model = DQN.load('DQN_Rubiks')\n",
    "env = RubiksEnv(train=False)\n",
    "results = []\n",
    "summation = 0\n",
    "for i in range (1000):\n",
    "    random.seed(i)\n",
    "    obs = env.reset()\n",
    "    #env.render()\n",
    "    done = False\n",
    "    move_number = 0\n",
    "    while not done:\n",
    "        action, _states = model.predict(obs)\n",
    "        obs, rewards, done, info = env.step(action)\n",
    "        move_number += 1\n",
    "    #env.render()\n",
    "    #print(env.shuffle_number)\n",
    "    #print(move_number)\n",
    "    results.append(int(env.is_done()))\n",
    "    summation += int(env.is_done())\n",
    "perc = np.float(summation/1000)\n",
    "\n",
    "print(\"The Reinforcement Learning Model's accuracy is: \" + str(perc*100) + '%')\n",
    "print(\"Number of games played: 1000\")\n",
    "print(\"Number of cubes solved: \" + str(summation))"
   ]
  }
 ],
 "metadata": {
  "kernelspec": {
   "display_name": "Python 3",
   "language": "python",
   "name": "python3"
  },
  "language_info": {
   "codemirror_mode": {
    "name": "ipython",
    "version": 3
   },
   "file_extension": ".py",
   "mimetype": "text/x-python",
   "name": "python",
   "nbconvert_exporter": "python",
   "pygments_lexer": "ipython3",
   "version": "3.6.12"
  }
 },
 "nbformat": 4,
 "nbformat_minor": 4
}
